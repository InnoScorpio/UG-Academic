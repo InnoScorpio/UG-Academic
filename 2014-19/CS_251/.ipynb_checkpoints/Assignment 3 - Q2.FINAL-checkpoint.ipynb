{
 "cells": [
  {
   "cell_type": "code",
   "execution_count": 86,
   "metadata": {},
   "outputs": [
    {
     "name": "stdout",
     "output_type": "stream",
     "text": [
      "390 Sum of xi\n",
      "385 Sum of yi\n",
      "730.0 Sum of (xi-x)^2\n",
      "630.0 Sum of (yi-y)^2\n",
      "470.0 Sum of (xi-x)*(yi-y)\n",
      "78 Mean of xi\n",
      "77 Mean of yi\n",
      "b1 is 0.643835616438\n",
      "b0 is 26.7808219178\n",
      "The regression equation is y = 26.7808219178 + 0.643835616438 x\n",
      "The students estimated statistics grade would be 78.2876712329\n",
      "R^2 is 0.480321809089 indicates it fits the data very well.\n"
     ]
    },
    {
     "data": {
      "text/html": [
       "<div>\n",
       "<table border=\"1\" class=\"dataframe\">\n",
       "  <thead>\n",
       "    <tr style=\"text-align: right;\">\n",
       "      <th></th>\n",
       "      <th>xi</th>\n",
       "      <th>yi</th>\n",
       "      <th>(xi-x)</th>\n",
       "      <th>(yi-y)</th>\n",
       "      <th>(xi-x)^2</th>\n",
       "      <th>(yi-y)^2</th>\n",
       "      <th>(xi-x)*(yi-y)</th>\n",
       "    </tr>\n",
       "  </thead>\n",
       "  <tbody>\n",
       "    <tr>\n",
       "      <th>0</th>\n",
       "      <td>95</td>\n",
       "      <td>85</td>\n",
       "      <td>17.0</td>\n",
       "      <td>8.0</td>\n",
       "      <td>289.0</td>\n",
       "      <td>64.0</td>\n",
       "      <td>136.0</td>\n",
       "    </tr>\n",
       "    <tr>\n",
       "      <th>1</th>\n",
       "      <td>85</td>\n",
       "      <td>95</td>\n",
       "      <td>7.0</td>\n",
       "      <td>18.0</td>\n",
       "      <td>49.0</td>\n",
       "      <td>324.0</td>\n",
       "      <td>126.0</td>\n",
       "    </tr>\n",
       "    <tr>\n",
       "      <th>2</th>\n",
       "      <td>80</td>\n",
       "      <td>70</td>\n",
       "      <td>2.0</td>\n",
       "      <td>-7.0</td>\n",
       "      <td>4.0</td>\n",
       "      <td>49.0</td>\n",
       "      <td>-14.0</td>\n",
       "    </tr>\n",
       "    <tr>\n",
       "      <th>3</th>\n",
       "      <td>70</td>\n",
       "      <td>65</td>\n",
       "      <td>-8.0</td>\n",
       "      <td>-12.0</td>\n",
       "      <td>64.0</td>\n",
       "      <td>144.0</td>\n",
       "      <td>96.0</td>\n",
       "    </tr>\n",
       "    <tr>\n",
       "      <th>4</th>\n",
       "      <td>60</td>\n",
       "      <td>70</td>\n",
       "      <td>-18.0</td>\n",
       "      <td>-7.0</td>\n",
       "      <td>324.0</td>\n",
       "      <td>49.0</td>\n",
       "      <td>126.0</td>\n",
       "    </tr>\n",
       "  </tbody>\n",
       "</table>\n",
       "</div>"
      ],
      "text/plain": [
       "   xi  yi  (xi-x)  (yi-y)  (xi-x)^2  (yi-y)^2  (xi-x)*(yi-y)\n",
       "0  95  85    17.0     8.0     289.0      64.0          136.0\n",
       "1  85  95     7.0    18.0      49.0     324.0          126.0\n",
       "2  80  70     2.0    -7.0       4.0      49.0          -14.0\n",
       "3  70  65    -8.0   -12.0      64.0     144.0           96.0\n",
       "4  60  70   -18.0    -7.0     324.0      49.0          126.0"
      ]
     },
     "execution_count": 86,
     "metadata": {},
     "output_type": "execute_result"
    }
   ],
   "source": [
    "import pandas as pd\n",
    "import matplotlib.pyplot as plt\n",
    "import numpy as np\n",
    "n = 5\n",
    "cor_data = {'xi':[95, 85, 80, 70, 60], \n",
    "            'yi':[85, 95, 70, 65, 70]}\n",
    "frame  = pd.DataFrame(cor_data, columns = ['xi', 'yi'])\n",
    "frame['(xi-x)']=frame['xi']-(sum(frame['xi']/5))\n",
    "frame['(yi-y)']=frame['yi']-(sum(frame['yi']/5))\n",
    "frame['(xi-x)^2']=(frame['xi']-(sum(frame['xi']/5)))**2\n",
    "frame['(yi-y)^2']=(frame['yi']-(sum(frame['yi']/5)))**2\n",
    "frame['(xi-x)*(yi-y)']=frame['(xi-x)']*frame['(yi-y)']\n",
    "print sum(frame['xi']), \"Sum of xi\"\n",
    "print sum(frame['yi']), \"Sum of yi\"\n",
    "print sum(frame['(xi-x)^2']), \"Sum of (xi-x)^2\"\n",
    "print sum(frame['(yi-y)^2']), \"Sum of (yi-y)^2\"\n",
    "print sum(frame['(xi-x)*(yi-y)']), \"Sum of (xi-x)*(yi-y)\"\n",
    "print sum(frame['xi'])/5, \"Mean of xi\"\n",
    "print sum(frame['yi'])/5, \"Mean of yi\"\n",
    "print \"b1 is\", sum(frame['(xi-x)*(yi-y)'])/sum(frame['(xi-x)^2'])\n",
    "print \"b0 is\", sum(frame['yi'])/5-(sum(frame['(xi-x)*(yi-y)'])/sum(frame['(xi-x)^2']))*(sum(frame['xi'])/5)\n",
    "print \"The regression equation is y =\", (sum(frame['yi'])/5-(sum(frame['(xi-x)*(yi-y)'])/sum(frame['(xi-x)^2']))*(sum(frame['xi'])/5)), \"+\", (sum(frame['(xi-x)*(yi-y)'])/sum(frame['(xi-x)^2'])), \"x\"\n",
    "print \"The students estimated statistics grade would be\",  (sum(frame['yi'])/5-(sum(frame['(xi-x)*(yi-y)'])/sum(frame['(xi-x)^2']))*(sum(frame['xi'])/5))+((sum(frame['(xi-x)*(yi-y)'])/sum(frame['(xi-x)^2']))*80) \n",
    "print \"R^2 is\", (((0.2)*sum(frame['(xi-x)*(yi-y)'])/((sum(frame['(xi-x)^2'])/5)**0.500*(sum(frame['(yi-y)^2'])/5)**0.500))**2), \"indicates it fits the data very well.\"\n",
    "frame"
   ]
  },
  {
   "cell_type": "code",
   "execution_count": null,
   "metadata": {
    "collapsed": true
   },
   "outputs": [],
   "source": []
  },
  {
   "cell_type": "code",
   "execution_count": null,
   "metadata": {
    "collapsed": true
   },
   "outputs": [],
   "source": []
  },
  {
   "cell_type": "code",
   "execution_count": null,
   "metadata": {
    "collapsed": true
   },
   "outputs": [],
   "source": []
  }
 ],
 "metadata": {
  "anaconda-cloud": {},
  "kernelspec": {
   "display_name": "Python 3",
   "language": "python",
   "name": "python3"
  },
  "language_info": {
   "codemirror_mode": {
    "name": "ipython",
    "version": 3
   },
   "file_extension": ".py",
   "mimetype": "text/x-python",
   "name": "python",
   "nbconvert_exporter": "python",
   "pygments_lexer": "ipython3",
   "version": "3.7.6"
  }
 },
 "nbformat": 4,
 "nbformat_minor": 1
}
