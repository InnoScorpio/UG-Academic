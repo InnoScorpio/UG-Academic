{
 "cells": [
  {
   "cell_type": "code",
   "execution_count": 1,
   "metadata": {},
   "outputs": [
    {
     "data": {
      "text/plain": [
       "parallel_estimate_of_N (generic function with 1 method)"
      ]
     },
     "execution_count": 1,
     "metadata": {},
     "output_type": "execute_result"
    }
   ],
   "source": [
    "function compute_pi(N::Int)\n",
    "    \"\"\"\n",
    "    Compute pi with a Monte Carlo simulation of N darts thrown in [-1,1]^2\n",
    "    Returns estimate of pi\n",
    "    \"\"\"\n",
    "    n_landed_in_circle = 0  # counts number of points that have radial coordinate < 1, i.e. in circle\n",
    "    for i = 1:N\n",
    "        x = rand() * 2 - 1  # uniformly distributed number on x-axis\n",
    "        y = rand() * 2 - 1  # uniformly distributed number on y-axis\n",
    "\n",
    "        r2 = x*x + y*y  # radius squared, in radial coordinates\n",
    "        if r2 < 1.0\n",
    "            n_landed_in_circle += 1\n",
    "        end\n",
    "    end\n",
    "\n",
    "    return n_landed_in_circle / N * 4.0\n",
    "end\n",
    "@everywhere function compute_pi(N::Int)\n",
    "    \"\"\"\n",
    "    Compute pi with a Monte Carlo simulation of N darts thrown in [-1,1]^2\n",
    "    Returns estimate of pi\n",
    "    \"\"\"\n",
    "    n_landed_in_circle = 0  # counts number of points that have radial coordinate < 1, i.e. in circle\n",
    "    for i = 1:N\n",
    "        x = rand() * 2 - 1  # uniformly distributed number on x-axis\n",
    "        y = rand() * 2 - 1  # uniformly distributed number on y-axis\n",
    "\n",
    "        r2 = x*x + y*y  # radius squared, in radial coordinates\n",
    "        if r2 < 1.0\n",
    "            n_landed_in_circle += 1\n",
    "        end\n",
    "    end\n",
    "\n",
    "    return n_landed_in_circle / N * 4.0    \n",
    "end\n",
    "function parallel_pi_computation(N::Int; ncores::Int=8)\n",
    "    \"\"\"\n",
    "    Compute pi in parallel, over ncores cores, with a Monte Carlo simulation throwing N total darts\n",
    "    \"\"\"\n",
    "\n",
    "    # compute sum of pi's estimated among all cores in parallel\n",
    "    sum_of_pis = @parallel (+) for i=1:ncores\n",
    "        compute_pi(ceil(Int, N / ncores))\n",
    "    end\n",
    "\n",
    "    return sum_of_pis / ncores  # average value\n",
    "end\n",
    "function serial_estimate_of_N()\n",
    "    \"\"\"\n",
    "    Computes estimate of pi for an array of N\n",
    "    \"\"\"\n",
    "    N = logspace(4,8)\n",
    "    pi_estimate = zeros(length(N))\n",
    "\n",
    "    for i = 1:length(N)\n",
    "        pi_estimate[i] = compute_pi(int(N[i]))\n",
    "    end\n",
    "\n",
    "    return pi_estimate\n",
    "end\n",
    "function parallel_estimate_of_N()\n",
    "    \"\"\"\n",
    "    Computes estimate of pi for an array of N\n",
    "    \"\"\"\n",
    "    N = logspace(4, 8)\n",
    "    return pmap(compute_pi, int(N))\n",
    "end"
   ]
  },
  {
   "cell_type": "code",
   "execution_count": 2,
   "metadata": {},
   "outputs": [
    {
     "name": "stdout",
     "output_type": "stream",
     "text": [
      "3.2"
     ]
    }
   ],
   "source": [
    "print(compute_pi(10))"
   ]
  },
  {
   "cell_type": "code",
   "execution_count": 3,
   "metadata": {},
   "outputs": [
    {
     "name": "stdout",
     "output_type": "stream",
     "text": [
      "3.08"
     ]
    }
   ],
   "source": [
    "print(compute_pi(100))"
   ]
  },
  {
   "cell_type": "code",
   "execution_count": 4,
   "metadata": {},
   "outputs": [
    {
     "name": "stdout",
     "output_type": "stream",
     "text": [
      "3.088"
     ]
    }
   ],
   "source": [
    "print(compute_pi(1000))"
   ]
  },
  {
   "cell_type": "code",
   "execution_count": 5,
   "metadata": {},
   "outputs": [
    {
     "name": "stdout",
     "output_type": "stream",
     "text": [
      "3.1296"
     ]
    }
   ],
   "source": [
    "print(compute_pi(5000))"
   ]
  },
  {
   "cell_type": "code",
   "execution_count": 6,
   "metadata": {},
   "outputs": [
    {
     "name": "stdout",
     "output_type": "stream",
     "text": [
      "3.1372"
     ]
    }
   ],
   "source": [
    "print(compute_pi(10000))"
   ]
  },
  {
   "cell_type": "code",
   "execution_count": 7,
   "metadata": {},
   "outputs": [
    {
     "name": "stdout",
     "output_type": "stream",
     "text": [
      "3.2"
     ]
    }
   ],
   "source": [
    "print(compute_pi(50))"
   ]
  },
  {
   "cell_type": "code",
   "execution_count": null,
   "metadata": {},
   "outputs": [],
   "source": []
  }
 ],
 "metadata": {
  "kernelspec": {
   "display_name": "Julia 0.6.1",
   "language": "julia",
   "name": "julia-0.6"
  },
  "language_info": {
   "file_extension": ".jl",
   "mimetype": "application/julia",
   "name": "julia",
   "version": "0.6.1"
  }
 },
 "nbformat": 4,
 "nbformat_minor": 2
}
