{
 "cells": [
  {
   "cell_type": "code",
   "execution_count": 16,
   "metadata": {},
   "outputs": [
    {
     "data": {
      "text/plain": [
       "anal (generic function with 1 method)"
      ]
     },
     "execution_count": 16,
     "metadata": {},
     "output_type": "execute_result"
    }
   ],
   "source": [
    "function anal(str)\n",
    "\tresult = split(str, \".\")\n",
    "\tresult2 = split(result[2], \"@\")\n",
    "\tfirstName = result[1]\n",
    "\tfamilyName = result2[1]\n",
    "\tuniversityName = result2[2]\n",
    "\tbusinessName = result[3]\n",
    "\tprint(\"First Name = \", firstName, \"\\n\")\n",
    "\tprint(\"Family Name = \", familyName, \"\\n\")\n",
    "\tprint(\"University = \", universityName, \"\\n\")\n",
    "\tprint(\"Business Name = \", businessName, \"\\n\")\n",
    "end"
   ]
  },
  {
   "cell_type": "code",
   "execution_count": 14,
   "metadata": {},
   "outputs": [
    {
     "name": "stdout",
     "output_type": "stream",
     "text": [
      "First Name = jose\n",
      "Family Name = dixon\n",
      "University = morgan\n",
      "Business Name = edu\n",
      "nothing"
     ]
    }
   ],
   "source": [
    "print(anal(\"jose.dixon@morgan.edu\"))"
   ]
  },
  {
   "cell_type": "code",
   "execution_count": null,
   "metadata": {},
   "outputs": [],
   "source": []
  },
  {
   "cell_type": "code",
   "execution_count": null,
   "metadata": {},
   "outputs": [],
   "source": []
  }
 ],
 "metadata": {
  "kernelspec": {
   "display_name": "Julia 0.6.1",
   "language": "julia",
   "name": "julia-0.6"
  },
  "language_info": {
   "file_extension": ".jl",
   "mimetype": "application/julia",
   "name": "julia",
   "version": "0.6.1"
  }
 },
 "nbformat": 4,
 "nbformat_minor": 2
}
